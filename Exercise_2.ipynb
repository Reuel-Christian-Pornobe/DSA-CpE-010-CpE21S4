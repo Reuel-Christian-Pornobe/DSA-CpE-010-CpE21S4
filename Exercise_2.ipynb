{
  "nbformat": 4,
  "nbformat_minor": 0,
  "metadata": {
    "colab": {
      "provenance": [],
      "authorship_tag": "ABX9TyPLVI6zk2Rtr0nn2F/J6xyT",
      "include_colab_link": true
    },
    "kernelspec": {
      "name": "python3",
      "display_name": "Python 3"
    },
    "language_info": {
      "name": "python"
    }
  },
  "cells": [
    {
      "cell_type": "markdown",
      "metadata": {
        "id": "view-in-github",
        "colab_type": "text"
      },
      "source": [
        "<a href=\"https://colab.research.google.com/github/Reuel-Christian-Pornobe/DSA-CpE-010-CpE21S4/blob/main/Exercise_2.ipynb\" target=\"_parent\"><img src=\"https://colab.research.google.com/assets/colab-badge.svg\" alt=\"Open In Colab\"/></a>"
      ]
    },
    {
      "cell_type": "code",
      "execution_count": 15,
      "metadata": {
        "id": "5kXPYHnSvLaU",
        "colab": {
          "base_uri": "https://localhost:8080/"
        },
        "outputId": "67b32d0d-2fe0-4a11-fde6-c924b067263b"
      },
      "outputs": [
        {
          "output_type": "stream",
          "name": "stdout",
          "text": [
            "what shape?: triangle\n",
            "What is the base?: 12\n",
            "What is the height?: 6\n",
            "The area of the triangle is:  36.0\n"
          ]
        }
      ],
      "source": [
        "class Shapes():\n",
        "  def __init__(self, s1, s2):\n",
        "    self.s1 = s1\n",
        "    self.s2 = s2\n",
        "\n",
        "class Rectangle(Shapes):\n",
        "  def __init__(self, s1, s2):\n",
        "    super().__init__(s1, s2)\n",
        "\n",
        "  def areaRectangle(self):\n",
        "    return self.s1 * self.s2\n",
        "\n",
        "\n",
        "class Square(Shapes):\n",
        "  def __init__(self, s1, s2):\n",
        "    super().__init__(s1, s2)\n",
        "\n",
        "  def areaSquare(self):\n",
        "    return self.s1 * self.s2\n",
        "\n",
        "class Triangle(Shapes):\n",
        "  def __init__(self, s1, s2):\n",
        "    super().__init__(s1, s2)\n",
        "\n",
        "  def areaTriangle(self):\n",
        "    return 0.5 * self.s1 * self.s2\n",
        "\n",
        "\n",
        "\n",
        "\n",
        "q = input('what shape?: ')\n",
        "\n",
        "if q == 'rectangle':\n",
        "  length = float(input('What is the length?: '))\n",
        "  width = float(input('What is the width?: '))\n",
        "  a = Rectangle(length, width)\n",
        "  print('The are of the rectangle is: ', a.areaRectangle())\n",
        "\n",
        "elif q == 'square':\n",
        "  sides = float(input('What is the sides?: '))\n",
        "  sides2 = sides\n",
        "  a = Square(sides, sides2)\n",
        "  print('The area of the square is: ', a.areaSquare())\n",
        "\n",
        "elif q == 'triangle':\n",
        "  base = float(input('What is the base?: '))\n",
        "  height = float(input('What is the height?: '))\n",
        "  a = Triangle(base, height)\n",
        "  print('The area of the triangle is: ', a.areaTriangle())\n",
        "\n",
        "\n",
        "\n",
        "\n",
        "\n",
        "\n",
        "\n",
        "\n"
      ]
    }
  ]
}